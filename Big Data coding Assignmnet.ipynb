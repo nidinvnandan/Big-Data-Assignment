{
 "cells": [
  {
   "cell_type": "markdown",
   "metadata": {
    "application/vnd.databricks.v1+cell": {
     "cellMetadata": {},
     "inputWidgets": {},
     "nuid": "159630cb-93f3-41c2-8eaa-2776bf3165d4",
     "showTitle": false,
     "title": ""
    }
   },
   "source": [
    "Coding-Big Data Technologies Assignment\n",
    "\n",
    "Submitted by\n",
    "\n",
    "NIDIN V NANDAN\n",
    "\n",
    "Reg No:223039"
   ]
  },
  {
   "cell_type": "code",
   "execution_count": null,
   "metadata": {
    "application/vnd.databricks.v1+cell": {
     "cellMetadata": {
      "byteLimit": 2048000,
      "rowLimit": 10000
     },
     "inputWidgets": {},
     "nuid": "9244d758-b766-411f-91a7-bff8eaac2a4e",
     "showTitle": false,
     "title": ""
    }
   },
   "outputs": [],
   "source": [
    "#enabling SparkSession and SprkContext\n",
    "from pyspark.sql import SparkSession\n",
    "from pyspark import SparkContext"
   ]
  },
  {
   "cell_type": "code",
   "execution_count": null,
   "metadata": {
    "application/vnd.databricks.v1+cell": {
     "cellMetadata": {
      "byteLimit": 2048000,
      "rowLimit": 10000
     },
     "inputWidgets": {},
     "nuid": "8a20ca0b-565a-4643-b906-f19c93fff571",
     "showTitle": false,
     "title": ""
    }
   },
   "outputs": [],
   "source": [
    "#importing necessary libraries\n",
    "\n",
    "from pyspark.ml.linalg import Vectors\n",
    "from pyspark.ml.feature import VectorAssembler\n",
    "from pyspark.ml.regression import LinearRegression\n",
    "from pyspark.sql.functions import col,sum,count\n",
    "import matplotlib.pyplot as plt"
   ]
  },
  {
   "cell_type": "code",
   "execution_count": null,
   "metadata": {
    "application/vnd.databricks.v1+cell": {
     "cellMetadata": {
      "byteLimit": 2048000,
      "rowLimit": 10000
     },
     "inputWidgets": {},
     "nuid": "b869efbf-5534-4ce9-a8c5-a0e60b0a9605",
     "showTitle": false,
     "title": ""
    }
   },
   "outputs": [],
   "source": [
    "#uploading the dataset\n",
    "dataset =spark.read.format(\"csv\").option(\"header\", \"true\").load(\"dbfs:/FileStore/shared_uploads/nidinvnandan321@gmail.com/Sample___Superstore-4.csv\")"
   ]
  },
  {
   "cell_type": "code",
   "execution_count": null,
   "metadata": {
    "application/vnd.databricks.v1+cell": {
     "cellMetadata": {
      "byteLimit": 2048000,
      "rowLimit": 10000
     },
     "inputWidgets": {},
     "nuid": "483f96b5-6d8e-41c7-80f8-0d90934223ae",
     "showTitle": false,
     "title": ""
    }
   },
   "outputs": [
    {
     "name": "stdout",
     "output_type": "stream",
     "text": [
      "+------+--------------+----------+----------+--------------+-----------+---------------+---------+-------------+---------------+----------+-----------+------+---------------+---------------+------------+--------------------+--------+--------+--------+--------+\n",
      "|Row ID|      Order ID|Order Date| Ship Date|     Ship Mode|Customer ID|  Customer Name|  Segment|      Country|           City|     State|Postal Code|Region|     Product ID|       Category|Sub-Category|        Product Name|   Sales|Quantity|Discount|  Profit|\n",
      "+------+--------------+----------+----------+--------------+-----------+---------------+---------+-------------+---------------+----------+-----------+------+---------------+---------------+------------+--------------------+--------+--------+--------+--------+\n",
      "|     1|CA-2016-152156| 11/8/2016|11/11/2016|  Second Class|   CG-12520|    Claire Gute| Consumer|United States|      Henderson|  Kentucky|      42420| South|FUR-BO-10001798|      Furniture|   Bookcases|Bush Somerset Col...|  261.96|       2|       0| 41.9136|\n",
      "|     2|CA-2016-152156| 11/8/2016|11/11/2016|  Second Class|   CG-12520|    Claire Gute| Consumer|United States|      Henderson|  Kentucky|      42420| South|FUR-CH-10000454|      Furniture|      Chairs|Hon Deluxe Fabric...|  731.94|       3|       0| 219.582|\n",
      "|     3|CA-2016-138688| 6/12/2016| 6/16/2016|  Second Class|   DV-13045|Darrin Van Huff|Corporate|United States|    Los Angeles|California|      90036|  West|OFF-LA-10000240|Office Supplies|      Labels|Self-Adhesive Add...|   14.62|       2|       0|  6.8714|\n",
      "|     4|US-2015-108966|10/11/2015|10/18/2015|Standard Class|   SO-20335| Sean O'Donnell| Consumer|United States|Fort Lauderdale|   Florida|      33311| South|FUR-TA-10000577|      Furniture|      Tables|Bretford CR4500 S...|957.5775|       5|    0.45|-383.031|\n",
      "|     5|US-2015-108966|10/11/2015|10/18/2015|Standard Class|   SO-20335| Sean O'Donnell| Consumer|United States|Fort Lauderdale|   Florida|      33311| South|OFF-ST-10000760|Office Supplies|     Storage|Eldon Fold 'N Rol...|  22.368|       2|     0.2|  2.5164|\n",
      "+------+--------------+----------+----------+--------------+-----------+---------------+---------+-------------+---------------+----------+-----------+------+---------------+---------------+------------+--------------------+--------+--------+--------+--------+\n",
      "only showing top 5 rows\n",
      "\n"
     ]
    }
   ],
   "source": [
    "#Getting 5 rows from the dataset\n",
    "dataset.show(5)"
   ]
  },
  {
   "cell_type": "code",
   "execution_count": null,
   "metadata": {
    "application/vnd.databricks.v1+cell": {
     "cellMetadata": {
      "byteLimit": 2048000,
      "rowLimit": 10000
     },
     "inputWidgets": {},
     "nuid": "fec860cf-82b1-458a-b7e3-91280ba6bb07",
     "showTitle": false,
     "title": ""
    }
   },
   "outputs": [
    {
     "name": "stdout",
     "output_type": "stream",
     "text": [
      "root\n",
      " |-- Row ID: string (nullable = true)\n",
      " |-- Order ID: string (nullable = true)\n",
      " |-- Order Date: string (nullable = true)\n",
      " |-- Ship Date: string (nullable = true)\n",
      " |-- Ship Mode: string (nullable = true)\n",
      " |-- Customer ID: string (nullable = true)\n",
      " |-- Customer Name: string (nullable = true)\n",
      " |-- Segment: string (nullable = true)\n",
      " |-- Country: string (nullable = true)\n",
      " |-- City: string (nullable = true)\n",
      " |-- State: string (nullable = true)\n",
      " |-- Postal Code: string (nullable = true)\n",
      " |-- Region: string (nullable = true)\n",
      " |-- Product ID: string (nullable = true)\n",
      " |-- Category: string (nullable = true)\n",
      " |-- Sub-Category: string (nullable = true)\n",
      " |-- Product Name: string (nullable = true)\n",
      " |-- Sales: string (nullable = true)\n",
      " |-- Quantity: string (nullable = true)\n",
      " |-- Discount: string (nullable = true)\n",
      " |-- Profit: string (nullable = true)\n",
      "\n"
     ]
    }
   ],
   "source": [
    "#printing the schema\n",
    "dataset.printSchema()"
   ]
  },
  {
   "cell_type": "code",
   "execution_count": null,
   "metadata": {
    "application/vnd.databricks.v1+cell": {
     "cellMetadata": {
      "byteLimit": 2048000,
      "rowLimit": 10000
     },
     "inputWidgets": {},
     "nuid": "25b7d645-c49d-4a96-95e8-97045577be80",
     "showTitle": false,
     "title": ""
    }
   },
   "outputs": [
    {
     "data": {
      "text/html": [
       "<div>\n",
       "<style scoped>\n",
       "    .dataframe tbody tr th:only-of-type {\n",
       "        vertical-align: middle;\n",
       "    }\n",
       "\n",
       "    .dataframe tbody tr th {\n",
       "        vertical-align: top;\n",
       "    }\n",
       "\n",
       "    .dataframe thead th {\n",
       "        text-align: right;\n",
       "    }\n",
       "</style>\n",
       "<table border=\"1\" class=\"dataframe\">\n",
       "  <thead>\n",
       "    <tr style=\"text-align: right;\">\n",
       "      <th></th>\n",
       "      <th>0</th>\n",
       "      <th>1</th>\n",
       "      <th>2</th>\n",
       "      <th>3</th>\n",
       "      <th>4</th>\n",
       "    </tr>\n",
       "  </thead>\n",
       "  <tbody>\n",
       "    <tr>\n",
       "      <th>summary</th>\n",
       "      <td>count</td>\n",
       "      <td>mean</td>\n",
       "      <td>stddev</td>\n",
       "      <td>min</td>\n",
       "      <td>max</td>\n",
       "    </tr>\n",
       "    <tr>\n",
       "      <th>Row ID</th>\n",
       "      <td>9994</td>\n",
       "      <td>4997.5</td>\n",
       "      <td>2885.1636290974325</td>\n",
       "      <td>1</td>\n",
       "      <td>9994</td>\n",
       "    </tr>\n",
       "    <tr>\n",
       "      <th>Order ID</th>\n",
       "      <td>9994</td>\n",
       "      <td>None</td>\n",
       "      <td>None</td>\n",
       "      <td>CA-2014-100006</td>\n",
       "      <td>US-2017-169551</td>\n",
       "    </tr>\n",
       "    <tr>\n",
       "      <th>Order Date</th>\n",
       "      <td>9994</td>\n",
       "      <td>None</td>\n",
       "      <td>None</td>\n",
       "      <td>1/1/2017</td>\n",
       "      <td>9/9/2017</td>\n",
       "    </tr>\n",
       "    <tr>\n",
       "      <th>Ship Date</th>\n",
       "      <td>9994</td>\n",
       "      <td>None</td>\n",
       "      <td>None</td>\n",
       "      <td>1/1/2015</td>\n",
       "      <td>9/9/2017</td>\n",
       "    </tr>\n",
       "    <tr>\n",
       "      <th>Ship Mode</th>\n",
       "      <td>9994</td>\n",
       "      <td>None</td>\n",
       "      <td>None</td>\n",
       "      <td>First Class</td>\n",
       "      <td>Standard Class</td>\n",
       "    </tr>\n",
       "    <tr>\n",
       "      <th>Customer ID</th>\n",
       "      <td>9994</td>\n",
       "      <td>None</td>\n",
       "      <td>None</td>\n",
       "      <td>AA-10315</td>\n",
       "      <td>ZD-21925</td>\n",
       "    </tr>\n",
       "    <tr>\n",
       "      <th>Customer Name</th>\n",
       "      <td>9994</td>\n",
       "      <td>None</td>\n",
       "      <td>None</td>\n",
       "      <td>Aaron Bergman</td>\n",
       "      <td>Zuschuss Donatelli</td>\n",
       "    </tr>\n",
       "    <tr>\n",
       "      <th>Segment</th>\n",
       "      <td>9994</td>\n",
       "      <td>None</td>\n",
       "      <td>None</td>\n",
       "      <td>Consumer</td>\n",
       "      <td>Home Office</td>\n",
       "    </tr>\n",
       "    <tr>\n",
       "      <th>Country</th>\n",
       "      <td>9994</td>\n",
       "      <td>None</td>\n",
       "      <td>None</td>\n",
       "      <td>United States</td>\n",
       "      <td>United States</td>\n",
       "    </tr>\n",
       "    <tr>\n",
       "      <th>City</th>\n",
       "      <td>9994</td>\n",
       "      <td>None</td>\n",
       "      <td>None</td>\n",
       "      <td>Aberdeen</td>\n",
       "      <td>Yuma</td>\n",
       "    </tr>\n",
       "    <tr>\n",
       "      <th>State</th>\n",
       "      <td>9994</td>\n",
       "      <td>None</td>\n",
       "      <td>None</td>\n",
       "      <td>Alabama</td>\n",
       "      <td>Wyoming</td>\n",
       "    </tr>\n",
       "    <tr>\n",
       "      <th>Postal Code</th>\n",
       "      <td>9994</td>\n",
       "      <td>55190.3794276566</td>\n",
       "      <td>32063.693350364487</td>\n",
       "      <td>05408</td>\n",
       "      <td>99301</td>\n",
       "    </tr>\n",
       "    <tr>\n",
       "      <th>Region</th>\n",
       "      <td>9994</td>\n",
       "      <td>None</td>\n",
       "      <td>None</td>\n",
       "      <td>Central</td>\n",
       "      <td>West</td>\n",
       "    </tr>\n",
       "    <tr>\n",
       "      <th>Product ID</th>\n",
       "      <td>9994</td>\n",
       "      <td>None</td>\n",
       "      <td>None</td>\n",
       "      <td>FUR-BO-10000112</td>\n",
       "      <td>TEC-PH-10004977</td>\n",
       "    </tr>\n",
       "    <tr>\n",
       "      <th>Category</th>\n",
       "      <td>9994</td>\n",
       "      <td>None</td>\n",
       "      <td>None</td>\n",
       "      <td>Furniture</td>\n",
       "      <td>Technology</td>\n",
       "    </tr>\n",
       "    <tr>\n",
       "      <th>Sub-Category</th>\n",
       "      <td>9994</td>\n",
       "      <td>None</td>\n",
       "      <td>None</td>\n",
       "      <td>Accessories</td>\n",
       "      <td>Tables</td>\n",
       "    </tr>\n",
       "    <tr>\n",
       "      <th>Product Name</th>\n",
       "      <td>9994</td>\n",
       "      <td>None</td>\n",
       "      <td>None</td>\n",
       "      <td>\"\"\"While you Were Out\"\" Message Book</td>\n",
       "      <td>netTALK DUO VoIP Telephone Service</td>\n",
       "    </tr>\n",
       "    <tr>\n",
       "      <th>Sales</th>\n",
       "      <td>9994</td>\n",
       "      <td>234.41818199917006</td>\n",
       "      <td>631.7890112674363</td>\n",
       "      <td>10/Pack\"</td>\n",
       "      <td>999.98</td>\n",
       "    </tr>\n",
       "    <tr>\n",
       "      <th>Quantity</th>\n",
       "      <td>9994</td>\n",
       "      <td>5.828590535392018</td>\n",
       "      <td>25.520975563736403</td>\n",
       "      <td>1040 sheets\"</td>\n",
       "      <td>98.352</td>\n",
       "    </tr>\n",
       "    <tr>\n",
       "      <th>Discount</th>\n",
       "      <td>9994</td>\n",
       "      <td>0.3155949113492862</td>\n",
       "      <td>3.314008629792499</td>\n",
       "      <td>30/Box\"</td>\n",
       "      <td>98.352</td>\n",
       "    </tr>\n",
       "    <tr>\n",
       "      <th>Profit</th>\n",
       "      <td>9994</td>\n",
       "      <td>28.587912967780834</td>\n",
       "      <td>234.3891156047269</td>\n",
       "      <td>-0.0895</td>\n",
       "      <td>99.9408</td>\n",
       "    </tr>\n",
       "  </tbody>\n",
       "</table>\n",
       "</div>"
      ]
     },
     "metadata": {
      "application/vnd.databricks.v1+output": {
       "addedWidgets": {},
       "arguments": {},
       "data": "<div>\n<style scoped>\n    .dataframe tbody tr th:only-of-type {\n        vertical-align: middle;\n    }\n\n    .dataframe tbody tr th {\n        vertical-align: top;\n    }\n\n    .dataframe thead th {\n        text-align: right;\n    }\n</style>\n<table border=\"1\" class=\"dataframe\">\n  <thead>\n    <tr style=\"text-align: right;\">\n      <th></th>\n      <th>0</th>\n      <th>1</th>\n      <th>2</th>\n      <th>3</th>\n      <th>4</th>\n    </tr>\n  </thead>\n  <tbody>\n    <tr>\n      <th>summary</th>\n      <td>count</td>\n      <td>mean</td>\n      <td>stddev</td>\n      <td>min</td>\n      <td>max</td>\n    </tr>\n    <tr>\n      <th>Row ID</th>\n      <td>9994</td>\n      <td>4997.5</td>\n      <td>2885.1636290974325</td>\n      <td>1</td>\n      <td>9994</td>\n    </tr>\n    <tr>\n      <th>Order ID</th>\n      <td>9994</td>\n      <td>None</td>\n      <td>None</td>\n      <td>CA-2014-100006</td>\n      <td>US-2017-169551</td>\n    </tr>\n    <tr>\n      <th>Order Date</th>\n      <td>9994</td>\n      <td>None</td>\n      <td>None</td>\n      <td>1/1/2017</td>\n      <td>9/9/2017</td>\n    </tr>\n    <tr>\n      <th>Ship Date</th>\n      <td>9994</td>\n      <td>None</td>\n      <td>None</td>\n      <td>1/1/2015</td>\n      <td>9/9/2017</td>\n    </tr>\n    <tr>\n      <th>Ship Mode</th>\n      <td>9994</td>\n      <td>None</td>\n      <td>None</td>\n      <td>First Class</td>\n      <td>Standard Class</td>\n    </tr>\n    <tr>\n      <th>Customer ID</th>\n      <td>9994</td>\n      <td>None</td>\n      <td>None</td>\n      <td>AA-10315</td>\n      <td>ZD-21925</td>\n    </tr>\n    <tr>\n      <th>Customer Name</th>\n      <td>9994</td>\n      <td>None</td>\n      <td>None</td>\n      <td>Aaron Bergman</td>\n      <td>Zuschuss Donatelli</td>\n    </tr>\n    <tr>\n      <th>Segment</th>\n      <td>9994</td>\n      <td>None</td>\n      <td>None</td>\n      <td>Consumer</td>\n      <td>Home Office</td>\n    </tr>\n    <tr>\n      <th>Country</th>\n      <td>9994</td>\n      <td>None</td>\n      <td>None</td>\n      <td>United States</td>\n      <td>United States</td>\n    </tr>\n    <tr>\n      <th>City</th>\n      <td>9994</td>\n      <td>None</td>\n      <td>None</td>\n      <td>Aberdeen</td>\n      <td>Yuma</td>\n    </tr>\n    <tr>\n      <th>State</th>\n      <td>9994</td>\n      <td>None</td>\n      <td>None</td>\n      <td>Alabama</td>\n      <td>Wyoming</td>\n    </tr>\n    <tr>\n      <th>Postal Code</th>\n      <td>9994</td>\n      <td>55190.3794276566</td>\n      <td>32063.693350364487</td>\n      <td>05408</td>\n      <td>99301</td>\n    </tr>\n    <tr>\n      <th>Region</th>\n      <td>9994</td>\n      <td>None</td>\n      <td>None</td>\n      <td>Central</td>\n      <td>West</td>\n    </tr>\n    <tr>\n      <th>Product ID</th>\n      <td>9994</td>\n      <td>None</td>\n      <td>None</td>\n      <td>FUR-BO-10000112</td>\n      <td>TEC-PH-10004977</td>\n    </tr>\n    <tr>\n      <th>Category</th>\n      <td>9994</td>\n      <td>None</td>\n      <td>None</td>\n      <td>Furniture</td>\n      <td>Technology</td>\n    </tr>\n    <tr>\n      <th>Sub-Category</th>\n      <td>9994</td>\n      <td>None</td>\n      <td>None</td>\n      <td>Accessories</td>\n      <td>Tables</td>\n    </tr>\n    <tr>\n      <th>Product Name</th>\n      <td>9994</td>\n      <td>None</td>\n      <td>None</td>\n      <td>\"\"\"While you Were Out\"\" Message Book</td>\n      <td>netTALK DUO VoIP Telephone Service</td>\n    </tr>\n    <tr>\n      <th>Sales</th>\n      <td>9994</td>\n      <td>234.41818199917006</td>\n      <td>631.7890112674363</td>\n      <td>10/Pack\"</td>\n      <td>999.98</td>\n    </tr>\n    <tr>\n      <th>Quantity</th>\n      <td>9994</td>\n      <td>5.828590535392018</td>\n      <td>25.520975563736403</td>\n      <td>1040 sheets\"</td>\n      <td>98.352</td>\n    </tr>\n    <tr>\n      <th>Discount</th>\n      <td>9994</td>\n      <td>0.3155949113492862</td>\n      <td>3.314008629792499</td>\n      <td>30/Box\"</td>\n      <td>98.352</td>\n    </tr>\n    <tr>\n      <th>Profit</th>\n      <td>9994</td>\n      <td>28.587912967780834</td>\n      <td>234.3891156047269</td>\n      <td>-0.0895</td>\n      <td>99.9408</td>\n    </tr>\n  </tbody>\n</table>\n</div>",
       "datasetInfos": [],
       "metadata": {},
       "removedWidgets": [],
       "textData": null,
       "type": "htmlSandbox"
      }
     },
     "output_type": "display_data"
    }
   ],
   "source": [
    "#describing the data\n",
    "dataset.describe().toPandas().transpose()\n"
   ]
  },
  {
   "cell_type": "code",
   "execution_count": null,
   "metadata": {
    "application/vnd.databricks.v1+cell": {
     "cellMetadata": {
      "byteLimit": 2048000,
      "rowLimit": 10000
     },
     "inputWidgets": {},
     "nuid": "849d1bea-31eb-4db7-b232-98b6a848780a",
     "showTitle": false,
     "title": ""
    }
   },
   "outputs": [
    {
     "name": "stdout",
     "output_type": "stream",
     "text": [
      "Unique values and their counts in column 'Ship Mode':\n",
      "+--------------+-----+\n",
      "|     Ship Mode|count|\n",
      "+--------------+-----+\n",
      "|   First Class| 1538|\n",
      "|      Same Day|  543|\n",
      "|  Second Class| 1945|\n",
      "|Standard Class| 5968|\n",
      "+--------------+-----+\n",
      "\n",
      "Unique values and their counts in column 'Customer ID':\n",
      "+-----------+-----+\n",
      "|Customer ID|count|\n",
      "+-----------+-----+\n",
      "|   VW-21775|   18|\n",
      "|   PB-19210|    2|\n",
      "|   RR-19315|    4|\n",
      "|   EM-13960|    6|\n",
      "|   MY-17380|   13|\n",
      "|   MS-17530|    7|\n",
      "|   KH-16630|   17|\n",
      "|   BD-11500|   10|\n",
      "|   SW-20275|    7|\n",
      "|   AH-10690|   23|\n",
      "|   PH-18790|    2|\n",
      "|   JF-15490|   15|\n",
      "|   JF-15415|   14|\n",
      "|   IM-15070|   21|\n",
      "|   PW-19240|   12|\n",
      "|   JH-15985|   14|\n",
      "|   OT-18730|   10|\n",
      "|   KM-16225|   19|\n",
      "|   NW-18400|   22|\n",
      "|   KF-16285|   18|\n",
      "+-----------+-----+\n",
      "only showing top 20 rows\n",
      "\n",
      "Unique values and their counts in column 'Customer Name':\n",
      "+-----------------+-----+\n",
      "|    Customer Name|count|\n",
      "+-----------------+-----+\n",
      "|     Jesus Ocampo|   11|\n",
      "|      Jim Mitchum|   12|\n",
      "|     Ruben Ausman|   15|\n",
      "|  Ted Butterfield|   18|\n",
      "|   Parhena Norris|   13|\n",
      "|      Joseph Holt|   14|\n",
      "|     Ben Peterman|   18|\n",
      "|  Patrick O'Brill|   22|\n",
      "|        Denny Joy|    5|\n",
      "|    Hilary Holden|    6|\n",
      "| Michelle Ellison|    6|\n",
      "|    Bill Overfelt|   12|\n",
      "|       Carl Weiss|   11|\n",
      "|Brooke Gillingham|    8|\n",
      "|  Michael Kennedy|   17|\n",
      "|   Darren Koutras|    8|\n",
      "|     Craig Yedwab|   11|\n",
      "|    Patrick Jones|   13|\n",
      "|        Rob Lucas|   24|\n",
      "|   Roland Schwarz|   14|\n",
      "+-----------------+-----+\n",
      "only showing top 20 rows\n",
      "\n",
      "Unique values and their counts in column 'Segment':\n",
      "+-----------+-----+\n",
      "|    Segment|count|\n",
      "+-----------+-----+\n",
      "|   Consumer| 5191|\n",
      "|Home Office| 1783|\n",
      "|  Corporate| 3020|\n",
      "+-----------+-----+\n",
      "\n",
      "Unique values and their counts in column 'Country':\n",
      "+-------------+-----+\n",
      "|      Country|count|\n",
      "+-------------+-----+\n",
      "|United States| 9994|\n",
      "+-------------+-----+\n",
      "\n",
      "Unique values and their counts in column 'City':\n",
      "+---------------+-----+\n",
      "|           City|count|\n",
      "+---------------+-----+\n",
      "|          Tyler|    5|\n",
      "|    Springfield|  163|\n",
      "|        Edmonds|   14|\n",
      "|          Tempe|   13|\n",
      "|  Bowling Green|   10|\n",
      "|          Pasco|    6|\n",
      "|         Auburn|   24|\n",
      "|North Las Vegas|   16|\n",
      "|       Thornton|   10|\n",
      "|       Palatine|    1|\n",
      "|        Phoenix|   63|\n",
      "|     Plainfield|   13|\n",
      "|  Lake Elsinore|    1|\n",
      "|     Georgetown|    8|\n",
      "|      Bethlehem|    5|\n",
      "|         Wilson|    6|\n",
      "|      Hollywood|   11|\n",
      "|         Monroe|   21|\n",
      "|       Woodland|    3|\n",
      "| Pembroke Pines|   14|\n",
      "+---------------+-----+\n",
      "only showing top 20 rows\n",
      "\n",
      "Unique values and their counts in column 'State':\n",
      "+--------------------+-----+\n",
      "|               State|count|\n",
      "+--------------------+-----+\n",
      "|                Utah|   53|\n",
      "|           Minnesota|   89|\n",
      "|                Ohio|  469|\n",
      "|              Oregon|  124|\n",
      "|            Arkansas|   60|\n",
      "|               Texas|  985|\n",
      "|        North Dakota|    7|\n",
      "|        Pennsylvania|  587|\n",
      "|         Connecticut|   82|\n",
      "|            Nebraska|   38|\n",
      "|             Vermont|   11|\n",
      "|              Nevada|   39|\n",
      "|          Washington|  506|\n",
      "|            Illinois|  492|\n",
      "|            Oklahoma|   66|\n",
      "|District of Columbia|   10|\n",
      "|            Delaware|   96|\n",
      "|          New Mexico|   37|\n",
      "|       West Virginia|    4|\n",
      "|            Missouri|   66|\n",
      "+--------------------+-----+\n",
      "only showing top 20 rows\n",
      "\n",
      "Unique values and their counts in column 'Postal Code':\n",
      "+-----------+-----+\n",
      "|Postal Code|count|\n",
      "+-----------+-----+\n",
      "|      75007|   15|\n",
      "|      92374|   16|\n",
      "|      91767|    7|\n",
      "|      10801|    9|\n",
      "|      23666|   11|\n",
      "|      85323|    6|\n",
      "|      66062|    5|\n",
      "|       2895|    4|\n",
      "|      94568|    1|\n",
      "|       8701|   24|\n",
      "|      46614|    6|\n",
      "|      97477|   38|\n",
      "|      42071|    2|\n",
      "|      17403|    5|\n",
      "|      97206|   24|\n",
      "|      14701|    2|\n",
      "|      82001|    1|\n",
      "|      60653|  101|\n",
      "|      48183|   13|\n",
      "|      76021|    5|\n",
      "+-----------+-----+\n",
      "only showing top 20 rows\n",
      "\n",
      "Unique values and their counts in column 'Region':\n",
      "+-------+-----+\n",
      "| Region|count|\n",
      "+-------+-----+\n",
      "|  South| 1620|\n",
      "|Central| 2323|\n",
      "|   East| 2848|\n",
      "|   West| 3203|\n",
      "+-------+-----+\n",
      "\n",
      "Unique values and their counts in column 'Product ID':\n",
      "+---------------+-----+\n",
      "|     Product ID|count|\n",
      "+---------------+-----+\n",
      "|OFF-EN-10002600|    7|\n",
      "|OFF-PA-10002615|    8|\n",
      "|OFF-PA-10004735|    5|\n",
      "|OFF-AR-10003504|    7|\n",
      "|OFF-AP-10002495|    3|\n",
      "|FUR-CH-10003833|    9|\n",
      "|FUR-FU-10000409|    3|\n",
      "|TEC-MA-10001047|    2|\n",
      "|FUR-CH-10000863|    8|\n",
      "|FUR-TA-10004086|    7|\n",
      "|OFF-PA-10000575|    7|\n",
      "|OFF-PA-10001457|    2|\n",
      "|OFF-LA-10004008|    2|\n",
      "|OFF-PA-10004243|    5|\n",
      "|OFF-BI-10001636|    9|\n",
      "|OFF-PA-10001639|    6|\n",
      "|FUR-TA-10000849|    4|\n",
      "|OFF-AR-10003876|    2|\n",
      "|OFF-ST-10003641|    3|\n",
      "|FUR-TA-10001705|    4|\n",
      "+---------------+-----+\n",
      "only showing top 20 rows\n",
      "\n",
      "Unique values and their counts in column 'Category':\n",
      "+---------------+-----+\n",
      "|       Category|count|\n",
      "+---------------+-----+\n",
      "|Office Supplies| 6026|\n",
      "|      Furniture| 2121|\n",
      "|     Technology| 1847|\n",
      "+---------------+-----+\n",
      "\n",
      "Unique values and their counts in column 'Sub-Category':\n",
      "+------------+-----+\n",
      "|Sub-Category|count|\n",
      "+------------+-----+\n",
      "|   Envelopes|  254|\n",
      "|         Art|  796|\n",
      "|      Chairs|  617|\n",
      "| Furnishings|  957|\n",
      "|    Supplies|  190|\n",
      "|   Fasteners|  217|\n",
      "|     Binders| 1523|\n",
      "|   Bookcases|  228|\n",
      "|      Labels|  364|\n",
      "|       Paper| 1370|\n",
      "| Accessories|  775|\n",
      "|     Copiers|   68|\n",
      "|      Phones|  889|\n",
      "|    Machines|  115|\n",
      "|     Storage|  846|\n",
      "|  Appliances|  466|\n",
      "|      Tables|  319|\n",
      "+------------+-----+\n",
      "\n",
      "Unique values and their counts in column 'Product Name':\n",
      "+--------------------+-----+\n",
      "|        Product Name|count|\n",
      "+--------------------+-----+\n",
      "|GBC ProClick 150 ...|    5|\n",
      "|Wasp CCD Handheld...|    1|\n",
      "|Wilson Jones 14 L...|    4|\n",
      "|Aastra 6757i CT W...|    6|\n",
      "|Global Armless Ta...|    8|\n",
      "|Sortfiler Multipu...|    6|\n",
      "|Bretford �Just In...|    4|\n",
      "|Avery Durable Bin...|   12|\n",
      "|           Xerox 212|    7|\n",
      "|Office Star - Con...|    7|\n",
      "|Maxell 4.7GB DVD+...|    5|\n",
      "|Acco Economy Flex...|    4|\n",
      "|Fellowes Recycled...|    3|\n",
      "|Safco Commercial ...|    5|\n",
      "|          Xerox 1901|    1|\n",
      "|Plantronics Voyag...|    5|\n",
      "|Dana Swing-Arm Lamps|    7|\n",
      "|Cisco IP�Phone�79...|    3|\n",
      "|GBC VeloBinder St...|    4|\n",
      "|Okidata C610n Pri...|    2|\n",
      "+--------------------+-----+\n",
      "only showing top 20 rows\n",
      "\n"
     ]
    }
   ],
   "source": [
    "#code to display the count of the unique values\n",
    "\n",
    "columns_to_check = [\"Ship Mode\", \"Customer ID\", \"Customer Name\", \"Segment\", \"Country\", \"City\", \"State\", \"Postal Code\", \"Region\", \"Product ID\", \"Category\", \"Sub-Category\", \"Product Name\"]\n",
    "\n",
    "# Create an empty dictionary to store the counts\n",
    "unique_counts = {}\n",
    "\n",
    "# Iterate over the columns and find the unique values and counts\n",
    "for column in columns_to_check:\n",
    "    unique_counts[column] = dataset.groupBy(column).agg(count(\"*\").alias(\"count\"))\n",
    "\n",
    "# Print the unique values and their counts\n",
    "for column, counts in unique_counts.items():\n",
    "    print(f\"Unique values and their counts in column '{column}':\")\n",
    "    counts.show()"
   ]
  },
  {
   "cell_type": "code",
   "execution_count": null,
   "metadata": {
    "application/vnd.databricks.v1+cell": {
     "cellMetadata": {
      "byteLimit": 2048000,
      "rowLimit": 10000
     },
     "inputWidgets": {},
     "nuid": "e9624dbb-0d58-4bfd-bf17-f60348161c47",
     "showTitle": false,
     "title": ""
    }
   },
   "outputs": [],
   "source": [
    "# Cast the required columns to float \n",
    "from pyspark.sql.functions import col\n",
    "columns_to_cast =  [\n",
    " 'Postal Code',\n",
    " 'Sales',\n",
    " 'Quantity',\n",
    " 'Discount',\n",
    " 'Profit']\n",
    "d_temp = (\n",
    "   dataset\n",
    "   .select(\n",
    "     *(c1 for c1 in dataset.columns if c1 not in columns_to_cast),\n",
    "     *(col(c1).cast(\"float\").alias(c1) for c1 in columns_to_cast)\n",
    "   )\n",
    ")\n",
    " "
   ]
  },
  {
   "cell_type": "code",
   "execution_count": null,
   "metadata": {
    "application/vnd.databricks.v1+cell": {
     "cellMetadata": {
      "byteLimit": 2048000,
      "rowLimit": 10000
     },
     "inputWidgets": {},
     "nuid": "563bf5b6-85a5-4e0c-8f08-dd717b338f9b",
     "showTitle": false,
     "title": ""
    }
   },
   "outputs": [
    {
     "name": "stdout",
     "output_type": "stream",
     "text": [
      "root\n",
      " |-- Row ID: string (nullable = true)\n",
      " |-- Order ID: string (nullable = true)\n",
      " |-- Order Date: string (nullable = true)\n",
      " |-- Ship Date: string (nullable = true)\n",
      " |-- Ship Mode: string (nullable = true)\n",
      " |-- Customer ID: string (nullable = true)\n",
      " |-- Customer Name: string (nullable = true)\n",
      " |-- Segment: string (nullable = true)\n",
      " |-- Country: string (nullable = true)\n",
      " |-- City: string (nullable = true)\n",
      " |-- State: string (nullable = true)\n",
      " |-- Region: string (nullable = true)\n",
      " |-- Product ID: string (nullable = true)\n",
      " |-- Category: string (nullable = true)\n",
      " |-- Sub-Category: string (nullable = true)\n",
      " |-- Product Name: string (nullable = true)\n",
      " |-- Postal Code: float (nullable = true)\n",
      " |-- Sales: float (nullable = true)\n",
      " |-- Quantity: float (nullable = true)\n",
      " |-- Discount: float (nullable = true)\n",
      " |-- Profit: float (nullable = true)\n",
      "\n"
     ]
    }
   ],
   "source": [
    "d_temp.printSchema()"
   ]
  },
  {
   "cell_type": "code",
   "execution_count": null,
   "metadata": {
    "application/vnd.databricks.v1+cell": {
     "cellMetadata": {
      "byteLimit": 2048000,
      "rowLimit": 10000
     },
     "inputWidgets": {},
     "nuid": "a39217c3-6c92-40f2-b2cb-2b5234ef0723",
     "showTitle": false,
     "title": ""
    }
   },
   "outputs": [
    {
     "name": "stdout",
     "output_type": "stream",
     "text": [
      "+------+--------------+----------+----------+-----------+------------------+-------------+---------------+--------------------+-----------+--------+--------+--------+--------+---------------+-------------+----------+-----------+------------+--------------+------------------+\n",
      "|Row ID|      Order ID|Order Date| Ship Date|Customer ID|     Customer Name|      Country|     Product ID|        Product Name|Postal Code|   Sales|Quantity|Discount|  Profit|Ship Mode_index|Segment_index|City_index|State_index|Region_index|Category_index|Sub-Category_index|\n",
      "+------+--------------+----------+----------+-----------+------------------+-------------+---------------+--------------------+-----------+--------+--------+--------+--------+---------------+-------------+----------+-----------+------------+--------------+------------------+\n",
      "|     1|CA-2016-152156| 11/8/2016|11/11/2016|   CG-12520|       Claire Gute|United States|FUR-BO-10001798|Bush Somerset Col...|    42420.0|  261.96|     2.0|     0.0| 41.9136|            1.0|          0.0|      26.0|       16.0|         3.0|           1.0|              12.0|\n",
      "|     2|CA-2016-152156| 11/8/2016|11/11/2016|   CG-12520|       Claire Gute|United States|FUR-CH-10000454|Hon Deluxe Fabric...|    42420.0|  731.94|     3.0|     0.0| 219.582|            1.0|          0.0|      26.0|       16.0|         3.0|           1.0|               7.0|\n",
      "|     3|CA-2016-138688| 6/12/2016| 6/16/2016|   DV-13045|   Darrin Van Huff|United States|OFF-LA-10000240|Self-Adhesive Add...|    90036.0|   14.62|     2.0|     0.0|  6.8714|            1.0|          1.0|       1.0|        0.0|         0.0|           0.0|               9.0|\n",
      "|     4|US-2015-108966|10/11/2015|10/18/2015|   SO-20335|    Sean O'Donnell|United States|FUR-TA-10000577|Bretford CR4500 S...|    33311.0|957.5775|     5.0|    0.45|-383.031|            0.0|          0.0|     107.0|        7.0|         3.0|           1.0|              10.0|\n",
      "|     5|US-2015-108966|10/11/2015|10/18/2015|   SO-20335|    Sean O'Donnell|United States|OFF-ST-10000760|Eldon Fold 'N Rol...|    33311.0|  22.368|     2.0|     0.2|  2.5164|            0.0|          0.0|     107.0|        7.0|         3.0|           0.0|               4.0|\n",
      "|     6|CA-2014-115812|  6/9/2014| 6/14/2014|   BH-11710|   Brosina Hoffman|United States|FUR-FU-10001487|Eldon Expressions...|    90032.0|   48.86|     7.0|     0.0| 14.1694|            0.0|          0.0|       1.0|        0.0|         0.0|           1.0|               2.0|\n",
      "|     7|CA-2014-115812|  6/9/2014| 6/14/2014|   BH-11710|   Brosina Hoffman|United States|OFF-AR-10002833|          Newell 322|    90032.0|    7.28|     4.0|     0.0|  1.9656|            0.0|          0.0|       1.0|        0.0|         0.0|           0.0|               5.0|\n",
      "|     8|CA-2014-115812|  6/9/2014| 6/14/2014|   BH-11710|   Brosina Hoffman|United States|TEC-PH-10002275|Mitel 5320 IP Pho...|    90032.0| 907.152|     6.0|     0.2| 90.7152|            0.0|          0.0|       1.0|        0.0|         0.0|           2.0|               3.0|\n",
      "|     9|CA-2014-115812|  6/9/2014| 6/14/2014|   BH-11710|   Brosina Hoffman|United States|OFF-BI-10003910|DXL Angle-View Bi...|    90032.0|  18.504|     3.0|     0.2|  5.7825|            0.0|          0.0|       1.0|        0.0|         0.0|           0.0|               0.0|\n",
      "|    10|CA-2014-115812|  6/9/2014| 6/14/2014|   BH-11710|   Brosina Hoffman|United States|OFF-AP-10002892|Belkin F5C206VTEL...|    90032.0|   114.9|     5.0|     0.0|   34.47|            0.0|          0.0|       1.0|        0.0|         0.0|           0.0|               8.0|\n",
      "|    11|CA-2014-115812|  6/9/2014| 6/14/2014|   BH-11710|   Brosina Hoffman|United States|FUR-TA-10001539|Chromcraft Rectan...|    90032.0|1706.184|     9.0|     0.2| 85.3092|            0.0|          0.0|       1.0|        0.0|         0.0|           1.0|              10.0|\n",
      "|    12|CA-2014-115812|  6/9/2014| 6/14/2014|   BH-11710|   Brosina Hoffman|United States|TEC-PH-10002033|Konftel 250 Confe...|    90032.0| 911.424|     4.0|     0.2| 68.3568|            0.0|          0.0|       1.0|        0.0|         0.0|           2.0|               3.0|\n",
      "|    13|CA-2017-114412| 4/15/2017| 4/20/2017|   AA-10480|      Andrew Allen|United States|OFF-PA-10002365|          Xerox 1967|    28027.0|  15.552|     3.0|     0.2|  5.4432|            0.0|          0.0|      48.0|        9.0|         3.0|           0.0|               1.0|\n",
      "|    14|CA-2016-161389| 12/5/2016|12/10/2016|   IM-15070|      Irene Maddox|United States|OFF-BI-10003656|Fellowes PB200 Pl...|    98103.0| 407.976|     3.0|     0.2|132.5922|            0.0|          0.0|       4.0|        4.0|         0.0|           0.0|               0.0|\n",
      "|    15|US-2015-118983|11/22/2015|11/26/2015|   HP-14815|     Harold Pawlan|United States|OFF-AP-10002311|Holmes Replacemen...|    76106.0|   68.81|     5.0|     0.8|-123.858|            0.0|          2.0|      59.0|        2.0|         2.0|           0.0|               8.0|\n",
      "|    16|US-2015-118983|11/22/2015|11/26/2015|   HP-14815|     Harold Pawlan|United States|OFF-BI-10000756|Storex DuraTech R...|    76106.0|   2.544|     3.0|     0.8|  -3.816|            0.0|          2.0|      59.0|        2.0|         2.0|           0.0|               0.0|\n",
      "|    17|CA-2014-105893|11/11/2014|11/18/2014|   PK-19075|         Pete Kriz|United States|OFF-ST-10004186|\"Stur-D-Stor Shel...|    53711.0|  665.88|     6.0|     0.0| 13.3176|            0.0|          0.0|     160.0|       20.0|         2.0|           0.0|               4.0|\n",
      "|    18|CA-2014-167164| 5/13/2014| 5/15/2014|   AG-10270|   Alejandro Grove|United States|OFF-ST-10000107|Fellowes Super St...|    84084.0|    55.5|     2.0|     0.0|    9.99|            1.0|          0.0|     299.0|       31.0|         0.0|           0.0|               4.0|\n",
      "|    19|CA-2014-143336| 8/27/2014|  9/1/2014|   ZD-21925|Zuschuss Donatelli|United States|OFF-AR-10003056|          Newell 341|    94109.0|    8.56|     2.0|     0.0|  2.4824|            1.0|          0.0|       3.0|        0.0|         0.0|           0.0|               5.0|\n",
      "|    20|CA-2014-143336| 8/27/2014|  9/1/2014|   ZD-21925|Zuschuss Donatelli|United States|TEC-PH-10001949|Cisco SPA 501G IP...|    94109.0|  213.48|     3.0|     0.2|  16.011|            1.0|          0.0|       3.0|        0.0|         0.0|           2.0|               3.0|\n",
      "+------+--------------+----------+----------+-----------+------------------+-------------+---------------+--------------------+-----------+--------+--------+--------+--------+---------------+-------------+----------+-----------+------------+--------------+------------------+\n",
      "only showing top 20 rows\n",
      "\n"
     ]
    }
   ],
   "source": [
    "from pyspark.ml.feature import StringIndexer\n",
    "\n",
    "#doing label encoding\n",
    "# List of columns to label encode\n",
    "columns_to_label_encode = [\"Ship Mode\", \"Segment\",\"City\", \"State\", \"Region\", \"Category\", \"Sub-Category\"]\n",
    "\n",
    "# Create a StringIndexer for each column and fit/transform it in place\n",
    "for column in columns_to_label_encode:\n",
    "    indexer = StringIndexer(inputCol=column, outputCol=column + \"_index\")\n",
    "    model = indexer.fit(d_temp)\n",
    "    d_temp = model.transform(d_temp)\n",
    "    d_temp = d_temp.drop(column)  # Remove the original column\n",
    "\n",
    "# Show the resulting DataFrame\n",
    "d_temp.show()\n"
   ]
  },
  {
   "cell_type": "code",
   "execution_count": null,
   "metadata": {
    "application/vnd.databricks.v1+cell": {
     "cellMetadata": {
      "byteLimit": 2048000,
      "rowLimit": 10000
     },
     "inputWidgets": {},
     "nuid": "5ce0530b-845a-48aa-9783-6d67b44f27af",
     "showTitle": false,
     "title": ""
    }
   },
   "outputs": [
    {
     "name": "stdout",
     "output_type": "stream",
     "text": [
      "Out[32]: ['Row ID',\n",
      " 'Order ID',\n",
      " 'Order Date',\n",
      " 'Ship Date',\n",
      " 'Customer ID',\n",
      " 'Customer Name',\n",
      " 'Country',\n",
      " 'Product ID',\n",
      " 'Product Name',\n",
      " 'Postal Code',\n",
      " 'Sales',\n",
      " 'Quantity',\n",
      " 'Discount',\n",
      " 'Profit',\n",
      " 'Ship Mode_index',\n",
      " 'Segment_index',\n",
      " 'City_index',\n",
      " 'State_index',\n",
      " 'Region_index',\n",
      " 'Category_index',\n",
      " 'Sub-Category_index']"
     ]
    }
   ],
   "source": [
    "d_temp.columns"
   ]
  },
  {
   "cell_type": "code",
   "execution_count": null,
   "metadata": {
    "application/vnd.databricks.v1+cell": {
     "cellMetadata": {
      "byteLimit": 2048000,
      "rowLimit": 10000
     },
     "inputWidgets": {},
     "nuid": "35be78e0-8511-49e4-9b05-eed4781d3d99",
     "showTitle": false,
     "title": ""
    }
   },
   "outputs": [],
   "source": [
    "#VectorAssembler method to stack all our features columns together and return them as the “features” columns by the output column parameter.\n",
    "from pyspark.ml.feature import VectorAssembler\n",
    "assembler = VectorAssembler(\n",
    "    inputCols=[\n",
    " 'Postal Code',\n",
    " 'Sales',\n",
    " 'Quantity',\n",
    " 'Discount','Ship Mode_index', \"Segment_index\",\"City_index\", \"State_index\", \"Region_index\", \"Category_index\", \"Sub-Category_index\"]\n",
    ",\n",
    "    outputCol=\"features\",handleInvalid=\"skip\")"
   ]
  },
  {
   "cell_type": "code",
   "execution_count": null,
   "metadata": {
    "application/vnd.databricks.v1+cell": {
     "cellMetadata": {
      "byteLimit": 2048000,
      "rowLimit": 10000
     },
     "inputWidgets": {},
     "nuid": "4db08c82-9447-4b55-9c51-1373c0e70cc1",
     "showTitle": false,
     "title": ""
    }
   },
   "outputs": [],
   "source": [
    "transform_d = assembler.transform(d_temp)"
   ]
  },
  {
   "cell_type": "code",
   "execution_count": null,
   "metadata": {
    "application/vnd.databricks.v1+cell": {
     "cellMetadata": {
      "byteLimit": 2048000,
      "rowLimit": 10000
     },
     "inputWidgets": {},
     "nuid": "f745ae1c-7ea7-4579-b0ec-d796ebf7d663",
     "showTitle": false,
     "title": ""
    }
   },
   "outputs": [],
   "source": [
    "trainable_d = transform_d.select(\"features\",'Profit')"
   ]
  },
  {
   "cell_type": "code",
   "execution_count": null,
   "metadata": {
    "application/vnd.databricks.v1+cell": {
     "cellMetadata": {
      "byteLimit": 2048000,
      "rowLimit": 10000
     },
     "inputWidgets": {},
     "nuid": "6127ce42-a7c5-4847-ab2a-097c6aa7ac76",
     "showTitle": false,
     "title": ""
    }
   },
   "outputs": [
    {
     "name": "stdout",
     "output_type": "stream",
     "text": [
      "+--------------------+--------+\n",
      "|            features|  Profit|\n",
      "+--------------------+--------+\n",
      "|[42420.0,261.9599...| 41.9136|\n",
      "|[42420.0,731.9400...| 219.582|\n",
      "|[90036.0,14.61999...|  6.8714|\n",
      "|[33311.0,957.5775...|-383.031|\n",
      "|[33311.0,22.36800...|  2.5164|\n",
      "|(11,[0,1,2,6,9,10...| 14.1694|\n",
      "|(11,[0,1,2,6,10],...|  1.9656|\n",
      "|[90032.0,907.1519...| 90.7152|\n",
      "|(11,[0,1,2,3,6],[...|  5.7825|\n",
      "|(11,[0,1,2,6,10],...|   34.47|\n",
      "|[90032.0,1706.183...| 85.3092|\n",
      "|[90032.0,911.4240...| 68.3568|\n",
      "|[28027.0,15.55200...|  5.4432|\n",
      "|(11,[0,1,2,3,6,7]...|132.5922|\n",
      "|[76106.0,68.80999...|-123.858|\n",
      "|[76106.0,2.543999...|  -3.816|\n",
      "|[53711.0,665.8800...| 13.3176|\n",
      "|[84084.0,55.5,2.0...|    9.99|\n",
      "|(11,[0,1,2,4,6,10...|  2.4824|\n",
      "|[94109.0,213.4799...|  16.011|\n",
      "+--------------------+--------+\n",
      "only showing top 20 rows\n",
      "\n"
     ]
    }
   ],
   "source": [
    "trainable_d.show()\n"
   ]
  },
  {
   "cell_type": "code",
   "execution_count": null,
   "metadata": {
    "application/vnd.databricks.v1+cell": {
     "cellMetadata": {
      "byteLimit": 2048000,
      "rowLimit": 10000
     },
     "inputWidgets": {},
     "nuid": "c2d26037-da99-4f04-a522-a28a0d057163",
     "showTitle": false,
     "title": ""
    }
   },
   "outputs": [],
   "source": [
    "train_data,test_data = trainable_d.randomSplit([0.7,0.3])"
   ]
  },
  {
   "cell_type": "code",
   "execution_count": null,
   "metadata": {
    "application/vnd.databricks.v1+cell": {
     "cellMetadata": {
      "byteLimit": 2048000,
      "rowLimit": 10000
     },
     "inputWidgets": {},
     "nuid": "94c98fd6-1ffe-4ecf-a162-f59e0c3fbfff",
     "showTitle": false,
     "title": ""
    }
   },
   "outputs": [
    {
     "name": "stdout",
     "output_type": "stream",
     "text": [
      "+--------------------+-------+\n",
      "|            features| Profit|\n",
      "+--------------------+-------+\n",
      "|(11,[0,1,2,3,4,6]...| 13.734|\n",
      "|(11,[0,1,2,3,4,6]...|13.0375|\n",
      "|(11,[0,1,2,3,4,6]...|19.4184|\n",
      "|(11,[0,1,2,3,4,6]...| 50.414|\n",
      "|(11,[0,1,2,3,4,6]...|152.495|\n",
      "|(11,[0,1,2,3,4,6]...| 1.8144|\n",
      "|(11,[0,1,2,3,4,6]...| 13.734|\n",
      "|(11,[0,1,2,3,4,6]...| 2.8836|\n",
      "|(11,[0,1,2,3,4,6]...| 3.9498|\n",
      "|(11,[0,1,2,3,4,6]...|   4.49|\n",
      "|(11,[0,1,2,3,4,6]...| 5.5071|\n",
      "|(11,[0,1,2,3,4,6]...|  1.971|\n",
      "|(11,[0,1,2,3,4,6]...| 3.2676|\n",
      "|(11,[0,1,2,3,4,6]...|13.3476|\n",
      "|(11,[0,1,2,3,4,6]...|89.9548|\n",
      "|(11,[0,1,2,3,4,6]...|302.373|\n",
      "|(11,[0,1,2,3,4,6]...| 6.4206|\n",
      "|(11,[0,1,2,3,4,6]...| 30.186|\n",
      "|(11,[0,1,2,3,4,6]...| 3.1552|\n",
      "|(11,[0,1,2,3,4,6]...|124.485|\n",
      "+--------------------+-------+\n",
      "only showing top 20 rows\n",
      "\n"
     ]
    }
   ],
   "source": [
    "train_data.show()"
   ]
  },
  {
   "cell_type": "code",
   "execution_count": null,
   "metadata": {
    "application/vnd.databricks.v1+cell": {
     "cellMetadata": {
      "byteLimit": 2048000,
      "rowLimit": 10000
     },
     "inputWidgets": {},
     "nuid": "e0fdf6ce-d521-4db1-bd28-1f2c0a6e46cd",
     "showTitle": false,
     "title": ""
    }
   },
   "outputs": [
    {
     "name": "stdout",
     "output_type": "stream",
     "text": [
      "+-------+------------------+\n",
      "|summary|            Profit|\n",
      "+-------+------------------+\n",
      "|  count|              2886|\n",
      "|   mean|  25.6310225093785|\n",
      "| stddev|186.86316212511286|\n",
      "|    min|        -3701.8928|\n",
      "|    max|         4630.4756|\n",
      "+-------+------------------+\n",
      "\n"
     ]
    }
   ],
   "source": [
    "test_data.describe().show()"
   ]
  },
  {
   "cell_type": "code",
   "execution_count": null,
   "metadata": {
    "application/vnd.databricks.v1+cell": {
     "cellMetadata": {
      "byteLimit": 2048000,
      "rowLimit": 10000
     },
     "inputWidgets": {},
     "nuid": "ae886590-eba7-475b-bcf3-f29c4b8b14f6",
     "showTitle": false,
     "title": ""
    }
   },
   "outputs": [],
   "source": [
    "#importing Linear Regression\n",
    "from pyspark.ml.regression import LinearRegression\n",
    "lr = LinearRegression(labelCol='Profit',featuresCol='features')"
   ]
  },
  {
   "cell_type": "code",
   "execution_count": null,
   "metadata": {
    "application/vnd.databricks.v1+cell": {
     "cellMetadata": {
      "byteLimit": 2048000,
      "rowLimit": 10000
     },
     "inputWidgets": {},
     "nuid": "c0a85a32-4ace-46c6-bb11-582f7a4bd106",
     "showTitle": false,
     "title": ""
    }
   },
   "outputs": [],
   "source": [
    "lrModel = lr.fit(train_data,)"
   ]
  },
  {
   "cell_type": "code",
   "execution_count": null,
   "metadata": {
    "application/vnd.databricks.v1+cell": {
     "cellMetadata": {
      "byteLimit": 2048000,
      "rowLimit": 10000
     },
     "inputWidgets": {},
     "nuid": "fc8acbda-b377-4491-99ff-e2407dbd1531",
     "showTitle": false,
     "title": ""
    }
   },
   "outputs": [
    {
     "name": "stdout",
     "output_type": "stream",
     "text": [
      "Coefficients: [4.6819738242245445e-05,0.19255710108984456,-3.751199862089213,-266.6117167792317,-1.0614620849938539,0.7715749742468547,0.023494745323506316,-0.034857865308872894,2.707545688940272,-9.84914424001243,-5.8537570925931695] Intercept: 66.4926560856605\n"
     ]
    }
   ],
   "source": [
    "print(\"Coefficients: {} Intercept: {}\".format(lrModel.coefficients,lrModel.intercept))"
   ]
  },
  {
   "cell_type": "code",
   "execution_count": null,
   "metadata": {
    "application/vnd.databricks.v1+cell": {
     "cellMetadata": {
      "byteLimit": 2048000,
      "rowLimit": 10000
     },
     "inputWidgets": {},
     "nuid": "a9e1f1da-3e0f-468e-9567-d0be906a7ce6",
     "showTitle": false,
     "title": ""
    }
   },
   "outputs": [],
   "source": [
    "test_results = lrModel.evaluate(test_data)"
   ]
  },
  {
   "cell_type": "code",
   "execution_count": null,
   "metadata": {
    "application/vnd.databricks.v1+cell": {
     "cellMetadata": {
      "byteLimit": 2048000,
      "rowLimit": 10000
     },
     "inputWidgets": {},
     "nuid": "87d4083a-42f8-4f3e-8674-b7bb3b96322b",
     "showTitle": false,
     "title": ""
    }
   },
   "outputs": [
    {
     "name": "stdout",
     "output_type": "stream",
     "text": [
      "+-------------------+\n",
      "|          residuals|\n",
      "+-------------------+\n",
      "|  4.367433219666992|\n",
      "|-11.039886294642606|\n",
      "|-2.1723479965367076|\n",
      "|  4.629796737187178|\n",
      "|-11.908259321614032|\n",
      "| -6.866520359883054|\n",
      "| -7.004529686486869|\n",
      "| 172.90926330085387|\n",
      "|-10.777796522049073|\n",
      "| -2.049956182262207|\n",
      "| -8.074860009093726|\n",
      "|-3.8905139381715728|\n",
      "| -2.821012384186517|\n",
      "|  -8.10196332330095|\n",
      "|  32.51893494937289|\n",
      "| -6.002386171843227|\n",
      "| 1.8179207045473476|\n",
      "| -4.684594071459998|\n",
      "|  20.80547889793867|\n",
      "|  7.688415851392648|\n",
      "+-------------------+\n",
      "only showing top 20 rows\n",
      "\n"
     ]
    }
   ],
   "source": [
    "test_results.residuals.show()"
   ]
  },
  {
   "cell_type": "code",
   "execution_count": null,
   "metadata": {
    "application/vnd.databricks.v1+cell": {
     "cellMetadata": {
      "byteLimit": 2048000,
      "rowLimit": 10000
     },
     "inputWidgets": {},
     "nuid": "88282030-f2c4-4a51-93ee-6482d2a323ac",
     "showTitle": false,
     "title": ""
    }
   },
   "outputs": [],
   "source": [
    "predictions = lrModel.transform(test_data)"
   ]
  },
  {
   "cell_type": "code",
   "execution_count": null,
   "metadata": {
    "application/vnd.databricks.v1+cell": {
     "cellMetadata": {
      "byteLimit": 2048000,
      "rowLimit": 10000
     },
     "inputWidgets": {},
     "nuid": "87ee1151-8b31-4a92-8b96-72695f632c62",
     "showTitle": false,
     "title": ""
    }
   },
   "outputs": [
    {
     "name": "stdout",
     "output_type": "stream",
     "text": [
      "+--------------------+-------+--------------------+\n",
      "|            features| Profit|          prediction|\n",
      "+--------------------+-------+--------------------+\n",
      "|(11,[0,1,2,3,4,6]...|  4.176|-0.19143310141137704|\n",
      "|(11,[0,1,2,3,4,6]...| 3.8168|  14.856686412135282|\n",
      "|(11,[0,1,2,3,4,6]...| 4.1328|   6.305148098770594|\n",
      "|(11,[0,1,2,3,4,6]...| 31.374|   26.74420381212923|\n",
      "|(11,[0,1,2,3,4,6]...| 1.6038|    13.5120593799789|\n",
      "|(11,[0,1,2,3,4,6]...| 4.2224|    11.0889205483291|\n",
      "|(11,[0,1,2,3,4,6]...| 4.5188|  11.523329468286185|\n",
      "|(11,[0,1,2,3,4,6]...|381.297|  208.38773376945863|\n",
      "|(11,[0,1,2,3,4,6]...|  3.942|  14.719796434311036|\n",
      "|(11,[0,1,2,3,4,6]...|  2.352|   4.401956180354858|\n",
      "|(11,[0,1,2,3,4,6]...|16.3352|  24.410059365172827|\n",
      "|(11,[0,1,2,3,4,6]...| 8.8624|  12.752913993103213|\n",
      "|(11,[0,1,2,3,4,6]...|16.3352|   19.15621174026562|\n",
      "|(11,[0,1,2,3,4,6]...| 5.1184|   13.22036342019426|\n",
      "|(11,[0,1,2,3,4,6]...| 77.714|   45.19506193783414|\n",
      "|(11,[0,1,2,3,4,6]...| 2.2302|    8.23258622410458|\n",
      "|(11,[0,1,2,3,4,6]...|21.8736|  20.055679301556168|\n",
      "|(11,[0,1,2,3,4,6]...|  11.46|   16.14459410960697|\n",
      "|(11,[0,1,2,3,4,6]...|27.3182|   6.512720259776174|\n",
      "|(11,[0,1,2,3,4,6]...| 4.3368| -3.3516157529734585|\n",
      "+--------------------+-------+--------------------+\n",
      "only showing top 20 rows\n",
      "\n"
     ]
    }
   ],
   "source": [
    "predictions.show()"
   ]
  },
  {
   "cell_type": "code",
   "execution_count": null,
   "metadata": {
    "application/vnd.databricks.v1+cell": {
     "cellMetadata": {
      "byteLimit": 2048000,
      "rowLimit": 10000
     },
     "inputWidgets": {},
     "nuid": "b74de746-9ee7-411f-b0d6-b44d1bae5c16",
     "showTitle": false,
     "title": ""
    }
   },
   "outputs": [
    {
     "name": "stdout",
     "output_type": "stream",
     "text": [
      "RMSE: 160.49993693030336\n",
      "MSE: 25760.229754631353\n"
     ]
    }
   ],
   "source": [
    "print(\"RMSE: {}\".format(test_results.rootMeanSquaredError))\n",
    "print(\"MSE: {}\".format(test_results.meanSquaredError))"
   ]
  },
  {
   "cell_type": "code",
   "execution_count": null,
   "metadata": {
    "application/vnd.databricks.v1+cell": {
     "cellMetadata": {
      "byteLimit": 2048000,
      "rowLimit": 10000
     },
     "inputWidgets": {},
     "nuid": "e89bf0d3-3275-436c-9bc3-89971a09ec15",
     "showTitle": false,
     "title": ""
    }
   },
   "outputs": [],
   "source": [
    "x_ax = range(0, predictions.count())\n",
    "y_pred = predictions.select(\"prediction\").collect()\n",
    "y_orig = predictions.select(\"Profit\").collect()  \n",
    " "
   ]
  },
  {
   "cell_type": "code",
   "execution_count": null,
   "metadata": {
    "application/vnd.databricks.v1+cell": {
     "cellMetadata": {
      "byteLimit": 2048000,
      "rowLimit": 10000
     },
     "inputWidgets": {},
     "nuid": "47acf414-52cf-4575-9812-4111d9784f84",
     "showTitle": false,
     "title": ""
    }
   },
   "outputs": [
    {
     "data": {
      "image/png": "[encoded data removed]"
     },
     "metadata": {
      "application/vnd.databricks.v1+output": {
       "addedWidgets": {},
       "arguments": {},
       "data": "data:image/png;base64,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\n",
       "datasetInfos": [],
       "metadata": {},
       "removedWidgets": [],
       "type": "image"
      }
     },
     "output_type": "display_data"
    }
   ],
   "source": [
    "import matplotlib.pyplot as plt\n",
    "plt.figure(figsize=(20,10))\n",
    "plt.plot(x_ax, y_orig, label=\"Original\")\n",
    "plt.plot(x_ax, y_pred, label=\"Predicted\")\n",
    "plt.title(\" Test V/s Predicted data\")\n",
    "plt.xlabel('X-axis')\n",
    "plt.ylabel('Y-axis')\n",
    "plt.legend(loc='best',fancybox=True, shadow=True)\n",
    "plt.grid(True)\n",
    "plt.show() "
   ]
  },
  {
   "cell_type": "markdown",
   "metadata": {
    "application/vnd.databricks.v1+cell": {
     "cellMetadata": {},
     "inputWidgets": {},
     "nuid": "769dac81-bbaa-4200-a45f-f194bb654095",
     "showTitle": false,
     "title": ""
    }
   },
   "source": [
    "Mention the purpose of the model you are creating.\n",
    "\n",
    "The purpose of the model is to perform linear regression on the provided dataset, specifically to predict the 'Profit' based on the input features contained in the \"features\" column ie('Postal Code',\n",
    " 'Sales','Quantity','Discount','Ship Mode_index', \"Segment_index\",\"City_index\", \"State_index\", \"Region_index\", \"Category_index\", \"Sub-Category_index\").As we know Linear regression is a statistical method used to model the relationship between a dependent variable (in this case, 'Profit') and one or more independent variables (the features ). The model will aim to learn the linear relationship between these variables to make predictions about the 'Profit' given a set of feature values. This can be valuable for understanding how the different input features influence the profitability of the data, and for making profit predictions based on new data points in the future.\n",
    " So this model have a clear purpose\n",
    "\n",
    "\n",
    "\n",
    "\n",
    "\n"
   ]
  },
  {
   "cell_type": "markdown",
   "metadata": {
    "application/vnd.databricks.v1+cell": {
     "cellMetadata": {},
     "inputWidgets": {},
     "nuid": "d16b277a-f34b-4f3e-9398-e945980a2f5e",
     "showTitle": false,
     "title": ""
    }
   },
   "source": [
    "why did you choose the specific algorithm?\n",
    "\n",
    "\n",
    "The choice of the linear regression algorithm in this problem is based on the nature of the problem and the assumptions that underlie linear regression\n",
    "Since the goal is to predict a continuous numeric value ('Profit'), linear regression is a natural choice as it is primarily designed for regression tasks.\n",
    "Linear regression assumes that there is a linear relationship between the input features and the target variable ('Profit' in this case).This is a reasonable assumption for many real-world scenarios, and it allows the model to capture and quantify how changes in the input features impact the target variable.\n",
    "And also this is a good model which give some good result"
   ]
  },
  {
   "cell_type": "markdown",
   "metadata": {
    "application/vnd.databricks.v1+cell": {
     "cellMetadata": {},
     "inputWidgets": {},
     "nuid": "b552749e-c8ee-401f-9ea3-bad8b06b8e9f",
     "showTitle": false,
     "title": ""
    }
   },
   "source": [
    "What is the expected output?\n",
    "\n",
    "\n",
    "The expected output of the code is to predict the \"Profit\" considering the features column ie('Postal Code', 'Sales','Quantity','Discount','Ship Mode_index', \"Segment_index\",\"City_index\", \"State_index\", \"Region_index\", \"Category_index\", \"Sub-Category_index\").For each data point or observation in the data, the model will produce a predicted profit value. These values are calculated using the learned coefficients and the input features of the data."
   ]
  }
 ],
 "metadata": {
  "application/vnd.databricks.v1+notebook": {
   "dashboards": [],
   "language": "python",
   "notebookMetadata": {
    "pythonIndentUnit": 4
   },
   "notebookName": "Big Data coding Assignmnet",
   "widgets": {}
  },
  "language_info": {
   "name": "python"
  }
 },
 "nbformat": 4,
 "nbformat_minor": 0
}
